{
 "cells": [
  {
   "cell_type": "code",
   "execution_count": 1,
   "metadata": {},
   "outputs": [
    {
     "name": "stderr",
     "output_type": "stream",
     "text": [
      "c:\\Users\\fcali\\OneDrive\\Masaüstü\\DATA SCIENCE\\LLMs\\CHATBOT_AMAZON_RETAILER\\.venv\\Lib\\site-packages\\pinecone\\data\\index.py:1: TqdmWarning: IProgress not found. Please update jupyter and ipywidgets. See https://ipywidgets.readthedocs.io/en/stable/user_install.html\n",
      "  from tqdm.autonotebook import tqdm\n"
     ]
    }
   ],
   "source": [
    "from dotenv import load_dotenv\n",
    "import os\n",
    "import json\n",
    "from pinecone import Pinecone, ServerlessSpec\n",
    "from sentence_transformers import SentenceTransformer\n"
   ]
  },
  {
   "cell_type": "code",
   "execution_count": 6,
   "metadata": {},
   "outputs": [
    {
     "data": {
      "text/plain": [
       "{'source_id': 1,\n",
       " 'topic': 'Setup your Amazon business',\n",
       " 'url': 'https://sell.amazon.com/sell#ready-to-sell',\n",
       " 'title': 'How to sell on Amazon: a guide for beginners',\n",
       " 'sub_title': 'Get an overview of how to create a selling account, list products, fulfill customer orders, and more. Learn how to sell—whether you’re new to online retail or just new to selling in the Amazon store.',\n",
       " 'content': '# Sign up\\n\\nStart here\\n\\nHow to sell on Amazon: a guide for beginners\\n\\nGet an overview of how to create a selling account, list products, fulfill customer orders, and more. Learn how to sell—whether you’re new to online retail or just new to selling in the Amazon store.\\n\\nWelcome to Amazon selling—where customer obsession is key\\n\\nAmazon is one of the most trusted brands in the US. We work hard to provide every customer with what they need when they need it—and we’re excited every time a new seller joins our community and starts providing Amazon customers with an even wider selection of products. It’s no secret: you’re a big part of how we offer the best shopping experience possible.\\n\\nMore than 60% of sales in the Amazon store come from independent sellers\\n\\n|Why independent sellers choose Amazon|Video 29:27|\\n|---|---|\\n|Why do so many independent sellers choose Amazon as a channel for their business?|How to sell on Amazon for beginners (step-by-step tutorial)|\\n|Because they get to sell in a store that more customers trust—and they get to do it with higher-impact tools and programs that cost less than alternatives. That means more|Learn about steps involved in your journey for selling your product on the|\\n---\\n# opportunities for growth and more chances to Amazon store.\\n\\ntransform how you sell.\\n\\n# Get ready to sell\\n\\n|Choose a selling plan|Get ready to sell|\\n|---|---|\\n|Create an account|Choose a selling plan|\\n|Configure your account|We offer two selling plans so you can choose the right package of tools and services for the right price.|\\n|Enroll your brand| |\\n\\n# List products\\n\\n# Price products\\n\\n# Select a fulfillment method\\n\\n# Monitor performance\\n\\n# Promote and advertise products\\n\\n- Get product reviews\\n\\n# Grow with tools and programs\\n\\nPick your selling plan\\n\\nBACK TO TOP\\n\\nCreate a Seller Central account\\n\\nAfter choosing your selling plan, you’ll register with Amazon and create a Seller Central account. You can create your account using the email address associated with your Amazon customer account, or you can create it using a separate business email address.\\n\\nBefore you create your Seller Central account, make sure you have the following:\\n\\n- Bank account and routing number\\n- Internationally chargeable credit card\\n- Government-issued ID\\n- Tax information\\n- Phone number\\n\\nCreate your Amazon seller account\\n\\nConfigure your Seller Central account\\n\\nOnce you’ve completed seller registration, you’ll have access to your Seller Central account. You can think of Seller Central as your hub for selling in the Amazon store. You can use it to list and price products, manage your inventory, and fulfill customer orders. You can also use tools in Seller Central to create promotions and coupons, track payments and expenses, and much more. Consider adding other users to your account if you’d like help with certain tasks.\\n---\\nBefore you start selling, you’ll want to configure your Seller Central account for your business. Make sure you review, confirm, or adjust the following, as needed:\\n\\nPublic seller profile\\n\\nPayment and business information\\n\\nShipping and returns settings\\n\\nTax information and settings\\n\\nNotification preferences\\n\\nLogin settings\\n\\nUser permissions\\n\\nGo mobile\\n\\nUse the free Amazon Seller app\\n\\nThe Amazon Seller app is packed with features to help you manage and grow your ecommerce business wherever you are. It gives you the freedom to take care of business details right from your phone or tablet. Learn more about the Amazon Seller app\\n\\nEnroll your brand\\n\\nIf you’re the rights owner for an eligible brand, we recommend enrolling it in Amazon Brand Registry before you list your products. That makes it easier to associate your products with your brand name. Brand Registry is free and provides sellers with a suite of additional selling benefits and protection tools.\\n\\nAfter enrolling your brand:\\n\\nYou’ll have greater control over the information on your product detail pages.\\n\\nYou’ll be able to access no-cost tools like A+ Content, Stores, Manage Your Experiments, and Brand Analytics, which can help you grow your audience and increase sales.\\n---\\n# You’ll enjoy automated protections for your brand and access to additional reporting options.\\n\\nEnroll your brand in Amazon Brand Registry\\n\\nDon\\'t have an Amazon seller account yet? Sign up\\n\\nList products\\n\\nUnderstand the product detail page\\n\\nIf you’ve shopped in the Amazon store, you’ll recognize the product detail page. It’s where customers find all relevant information about an item.\\n\\nWhen multiple sellers offer the same product, Amazon combines their offers on one product detail page to make it easier for customers to find, compare, and purchase items.\\n\\nLearn how to boost your listings and drive sales\\n---\\n# Images\\n\\n500 x 500 or 1,000 x 1,000 pixels to increase listing quality\\n\\n# Variations\\n\\nSuch as different colors, scents, or sizes\\n\\n# Bullet points\\n\\nShort, descriptive sentences highlighting key features and benefits\\n\\nVideo 8:25\\n\\nIntro to product detail\\n\\n# Featured offer (\"Buy Box\")\\n\\nThe featured offer on a detail page. Customers can add to their cart or “Buy Now”\\n\\nLearn what a product detail page is and who can create, suggest updates, and match offers to one.\\n\\nLearn best practices for each key element of a product detail page in the Amazon store.\\n\\n# Other offers\\n\\nThe same product sold by multiple sellers offering a different price, shipping options, etc.\\n\\n# Description\\n\\nKeywords improve the chances that people will find your listing\\n\\nBoost engagement with better listings\\n\\nDid you enroll your brand in Brand Registry? Help customers understand and engage with your products with A+ Content and 3D models.\\n\\n# A+ Content\\n\\nShowcase your products and tell your brand’s story by adding video, enhanced images, product-comparison charts, and other features to your product detail pages.\\n\\nLearn more about A+ Content\\n\\nBasic A+ Content can increase sales by up to 8%--and well-implemented Premium A+ Content can increase sales by up to 20%.\\n\\n3D models and augmented reality\\n\\nGive customers an immersive shopping experience. Let them see a product from all sides with View in 3D, or give them the opportunity to see it in their own space with View in Your Room. You can also let customers see themselves in shoes and eyewear in real time with Virtual Try-On.\\n\\nLearn more about 3D models\\n\\nOn average, customers who viewed a listing with a 3D model were 2x more likely to\\n---\\n# Make a purchase after viewing the product\\n\\nIn 3D or trying it on virtually.\\n\\n1Amazon internal data, 2022\\n\\n# Make sure your products are safe and compliant\\n\\nCustomers trust that they can always buy with confidence in the Amazon store. Products offered for sale in the Amazon store must comply with all laws and regulations, as well as Amazon policies. Before you start the listing process, make sure your understand our Product safety and Restricted products policies.\\n\\n# Find or obtain a product ID (GTIN)\\n\\nThe primary tool we use to pair a seller’s offer with the correct product detail page is a product ID, also called a Global Trade Item Number (GTIN). It can often be found on packaging above or below the product’s barcode. The most common GTIN used by Amazon sellers is a UPC, but you might also find an ISBN, EAN, or JAN on your product.\\n\\nIn some cases, you might need to obtain a GTIN for a product from Global Standards. In rare cases, you might apply for a GTIN exemption from Amazon.\\n\\n# Match or create a product listing\\n\\nIf the product you want to sell is already in the Amazon store, you can use its GTIN to match an offer to the existing product detail page. If a product isn’t already in the Amazon store, you’ll need to create a new product detail page and can add your offer information simultaneously.\\n\\nAll sellers can match or create product listings one at a time. Professional sellers can also match or create product listings in bulk.\\n\\nYour ability to list a product in the Amazon store can depend on its category, condition, and brand. In some cases, you’ll need to apply to sell a product, category, or brand. You’ll be prompted to do so during the listing process.\\n\\nVideo 7:51\\n\\nIntro to listing products in the Amazon store\\n\\nLearn what you need before you list products and how to match offers and create product detail pages both one at a time and in bulk.\\n\\n# Listing: product categories and conditions\\n---\\n# Product categories\\n\\n|Product category|Categories without restrictions|\\n|---|---|\\n|Amazon Device Accessories|Amazon devices accessories|\\n|Amazon Kindle|Kindle devices accessories|\\n|Beauty|Fragrance, skincare, makeup, hair care, bath & shower (topicals require approval). See also Health & Personal Care.|\\n|Books|Books, calendars, card decks, sheet music, magazines, journals, other publications|\\n|Business Products (B2B)|Business-relevant products across multiple categories. Special pricing features to target business customers.|\\n|Beauty Tools & Accessories|Brushes, bags, cases, skin care tools, hair styling tools|\\n|Camera & Photo|Cameras, camcorders, telescopes|\\n|Cell Phones|Cell phones and accessories must be listed using the manufacturer’s Universal Product Code (UPC).|\\n|Clothing & Accessories|Outerwear, athletic wear, innerwear, belts, wallets|\\n|Electronics Accessories|Audio, video, camera, photo, cell phone, car electronics, computer, and office accessories|\\n|Fashion Jewelry|Jewelry that does not contain precious or semi-precious gemstones, pearls, metals|\\n|Grocery & Gourmet Food|See grocery & gourmet category details on Seller Central|\\n---\\n# Home & Garden\\n\\nKitchen, dining, pet supplies, furniture, décor, bedding, bath, craft, hobby, home appliances, storage, patio, lawn, garden, pool supplies, landscaping, snow removal, generators\\n\\n# Luggage & Travel Accessories\\n\\nLuggage, bags, backpacks, briefcases, umbrellas, travel accessories\\n\\n# Musical Instruments\\n\\nGuitars, orchestra, recording equipment\\n\\n# Office Products\\n\\nSupplies, furniture, printers, calculators\\n\\n# Outdoors\\n\\nOutdoor gear, outdoor sports apparel, cycling, and action sports\\n\\n# Shoes, Handbags & Sunglasses\\n\\nShoes, boots, sandals, slippers, handbags, sunglasses, eyewear frames\\n\\n# Software & Computer Games\\n\\nBusiness, media education, utility, security, children\\'s software and PC games\\n\\n# Sports\\n\\nExercise & fitness, hunting accessories, team sports, licensed/fan shop, athletic apparel, boating & fishing, and game room\\n\\n# Tools & Home Improvement\\n\\nHand & power tools, plumbing, electrical, building materials, appliance parts\\n\\n# Toys & Games\\n\\nAction figures, dolls, board games, arts, crafts, furniture, learning toys (holiday selling requirements apply)\\n\\n# Video Games & Video Game Consoles\\n\\nGame consoles, console games, accessories\\n\\n# Categories with restrictions\\n\\nListing: brands\\n\\nIf a product is part of a brand enrolled in Amazon Brand Registry, only three types of sellers can create its product detail page using our standard listing processes:\\n\\n- the original rights owner who enrolled the brand\\n- other sellers internal to the brand\\n---\\nresellers who’ve been associated with the brand\\n\\nAfter a product is listed by one of the above sellers, others sellers can match offers to its product detail page. They may be prompted to complete a brand selling application first.\\n\\nAmazon jargon: ASIN\\n\\nEvery product in the Amazon store is automatically assigned an ASIN, or Amazon Standard Identification Number. This number is different from a GTIN and SKU. If you don’t have a GTIN for a product, you can try to match an offer to an existing product detail page using its ASIN instead.\\n\\nDon\\'t have an Amazon seller account yet?\\n\\nSign up\\n\\nPrice products\\n\\nBefore you set prices for your products, you’ll want to get familiar with key concepts we use to organize and support pricing in the Amazon store.\\n\\n- Competitive external price: the lowest price for an item from major retailers outside Amazon. We share competitive external prices with sellers. For your own price to be considered competitive, your standard item price, plus shipping, must be less than or equal to the competitive external price.\\n- Featured Offer: the offer a customer often sees near the top of a product detail page with ‘Buy Now’ and ‘Add to Cart’ buttons. To compete for the Featured Offer, a seller must set a competitive price and have a Professional selling plan. The product also needs to be in new condition.\\n- Lowest Amazon price: the lowest price currently offered by a seller in the Amazon store. We share the current lowest Amazon price to give sellers who list a product the opportunity to match or beat it.\\n\\nWant to optimize your prices? Learn how the Automate pricing tool can help you become the Featured Offer for a product in the Amazon store.\\n---\\n# Video 11:07\\n\\nIntro to pricing products in the Amazon store\\n\\nFind out what a competitive price, lowest price, and Featured Offer are. Get an overview of how sellers set static prices and apply dynamic pricing rules to their products.\\n\\n# Select your fulfillment method\\n\\nYou have two basic options for getting customers their stuff:\\n\\n1. You can fulfill orders yourself, maintaining your own inventory and shipping products directly to customers. We call pis merchant-fulfilled shipping (MFN).\\n2. You can send your inventory to Amazon and have us pick, pack, and deliver products prough Fulfillment by Amazon (FBA). FBA also takes care of customer service and returns.\\n\\nEach method has its own benefits—and you can decide which one is right for each product you sell. If you’re a current seller, you can also use our Revenue Calculator to compare estimates for FBA and your own fulfillment method.\\n\\n# Considering FBA?\\n\\nFind out if the program is worth it for your business\\n\\n# Video 6:27\\n\\nIntroduction on How to Ship Products on Your Own\\n\\nIn this video you will get an overview on merchant fulfilled shipping, guidelines on packaging, understand your shipping / cancellation metrics, guidelines to maintain positive customer experience.\\n\\n# Video 5:12\\n\\nHow Fulfillment by Amazon (FBA) works\\n\\nLearn how to use Amazon FBA to offer Prime shipping to your customers and have Amazon pick, pack, and ship orders on your behalf. In this video, you’ll learn how FBA works and where to access additional FBA tools and resources.\\n---\\n# Monitor your performance\\n\\nTo sell in the Amazon store, you’re required to comply with all applicable laws and Amazon policies. Our Account Health dashboard provides an overview of your account’s adherence to policies and various performance targets.\\n\\n# Customer Service Performance\\n\\nYour customer-service performance is measured using what we call an Order Defect Rate (ODR). Your ODR is the percentage of your orders with one or more indicators of poor customer service. That could be negative customer feedback or a credit-card chargeback. We require sellers to maintain an ODR under 1%.\\n\\nLooking for help with customer service? Explore Customer Service by Amazon\\n\\n# Account Health Rating\\n\\nWe provide sellers an overview of their compliance with key Amazon selling policies, including our intellectual-property, authenticity, listing, and restricted-product policies. To maintain a ‘Good’ rating, make sure to address any policy violations listed on your Account Health dashboard. If your rating is ‘At Risk’ or ‘Critical’, your account may be at risk of deactivation.\\n\\n# Shipping Performance\\n\\nYou can use three metrics to help assess the health of your MFN shipping performance:\\n\\nYour Late Shipment Rate (LSR) is pe percentage of your seller-fulfilled orders pat have a shipping confirmation after peir expected shipping date. You should aim to keep it below 4%.\\nYour Pre-fulfillment Cancel Rate (CR) is pe percentage of seller-fulfilled orders you cancel. You should aim to keep it below 2.5%.\\n---\\nYour Valid Tracking Rate (VTR) is the percentage of packages from your seller-fulfilled orders with a valid tracking number. You should aim to keep it above 95%.\\n\\nDon\\'t have an Amazon seller account yet?\\n\\nSign up\\n\\nPromote and advertise products\\n\\nUse no-cost promotions and pay-per-click advertising to help your products and brands reach more customers.\\n\\nCreate coupons that appear on the Amazon Coupons page, in search results, and on product detail pages.\\n\\nOffer percentage-off and buy-one-get-one promotions that appear as part of a Featured Offer.\\n\\nCreate Lighting and 7-Day Deals that appear on the Amazon Deals page. This is an option popular around shopping events like Prime Day.\\n\\nCreate Sponsored Products ads that feature a single product and appear in, alongside, and above customer search results in the Amazon store.\\n\\nUse Sponsored Brands ads to feature up to three products, as well as a logo and headline. Or create a Sponsored Brands campaign with an auto-playing video that features a single product. These ads appear prominently above, alongside, and below search results.\\n---\\n# Create Sponsored Display ads\\n\\nCreate Sponsored Display ads that feature a single product and can appear both in and beyond the Amazon store after a customer has viewed a product detail page, or if their other browsing behaviors show they’re interested in a product.\\n\\nLearn more about advertising\\n\\nGet product reviews\\n\\nAfter a customer buys a product, they can leave a public product review, a seller-feedback rating, or both. Try these tips to improve your chances of getting positive reviews and ratings:\\n\\n- Accurately represent a product on your product detail page.\\n- Pack your products to help prevent damage during delivery.\\n- Ship orders on time if you’re an MFN seller.\\n- Provide customer refunds for products returned within 30 days of purchase.\\n- Respond to customer messages within 24 hours.\\n- Provide valid tracking numbers so customers can track their orders.\\n\\nEligible brands can use tools like Amazon Vine to generate reviews for their products. Make sure you’re familiar with the right and wrong ways to get more product reviews and avoid policy violations.\\n\\nLearn about customer product reviews policies\\n\\nGrow with tools and programs\\n---\\n# New Seller Guide\\n\\nSpeed matters-and for Amazon sellers the first 90 days are especially critical. That\\'s why we invented the New Seller Guide, a set of brand, logistics, pricing, and promotional services that are backed by data science and designed to fuel the growth of new sellers.\\n\\nSellers who adopt services in the New Seller Guide can take advantage of over $50,000 in New Seller Incentives.\\n\\nLearn more\\n\\n# More tools and programs\\n\\nLooking for more ways to reach customers, sell products, and manage your business? Explore no-cost options and cost-effective tools and programs Amazon offers to help your business grow.\\n\\n# Drive online sales for your products\\n\\nLearn how to get started selling with Amazon.\\n\\n|Sell clothes|Sell furniture|Amazon Global|Sell jewelry|Sell shoes|Amazon|Sell books|Get more product ideas|\\n|---|---|---|---|---|---|---|---|\\n| | |Selling Global expansion has a lot of moving parts, but with Amazon Global Selling, you can use Amazon infrastructure to get your products in front of a worldwide audience.| | |Business Business customers tend to buy more items in larger quantities. They also tend to return items less. Use a suite of B2B features to help attract more business customers.| |Product Opportunity Explorer Get ideas for new products or offers. Product Opportunity Explorer generates insights about Amazon customer search and purchase behavior.|\\n\\nStart selling today - Put your products in front of the millions of customers who search Amazon.com every day.\\n\\nSign up\\n\\n$39.99 a month + selling fees\\n\\nJust have a few items to sell? Sign up to become an individual seller\\n\\nHome | Sell\\n\\nEnglish | United States | Feedback\\n\\nSell with Amazon | Selling Programs | Amazon for Brands | Resources | Tools\\n---\\n# Sell online\\n\\n|Fulfillment by Amazon|Online store builder|Selling Partner Blog|\\n|---|---|---|\\n|Login to your seller account| | |\\n\\n# How to sell on Amazon\\n\\n|Amazon Brand Registry|Seller University|\\n|---|---|\\n|Amazon Advertising|Seller Central Help|\\n|Global selling|Brand management|\\n|Product reviews|Accelerate Seller Event|\\n|Black Business Accelerator|Customer Behavior Analytics|\\n|More ways to make money| |\\n\\n# How much does it cost?\\n\\nProduct ideas\\n\\n# What is dropshipping?\\n\\nSell books online\\n\\nTerms of Service | Privacy Policy | © 2024, Amazon.com Services LLC.'}"
      ]
     },
     "execution_count": 6,
     "metadata": {},
     "output_type": "execute_result"
    }
   ],
   "source": [
    "with open('rag_dataset.json', 'r', encoding='utf-8') as file:\n",
    "    rag_dataset = json.load(file)\n",
    "rag_dataset[0]"
   ]
  },
  {
   "cell_type": "code",
   "execution_count": 7,
   "metadata": {},
   "outputs": [],
   "source": [
    "pc = Pinecone(api_key=os.getenv('PINECONE_API_KEY'))"
   ]
  },
  {
   "cell_type": "code",
   "execution_count": 21,
   "metadata": {},
   "outputs": [],
   "source": [
    "index_name = \"rag-index-384\"\n",
    "\n",
    "if index_name not in pc.list_indexes().names():\n",
    "    pc.create_index(\n",
    "        name=index_name,\n",
    "        dimension=384,\n",
    "        metric=\"cosine\",\n",
    "        spec=ServerlessSpec(\n",
    "            cloud='aws', \n",
    "            region='us-east-1'\n",
    "        ) \n",
    "    )"
   ]
  },
  {
   "cell_type": "code",
   "execution_count": 22,
   "metadata": {},
   "outputs": [],
   "source": [
    "# Connect to the index\n",
    "index = pc.Index(index_name)"
   ]
  },
  {
   "cell_type": "code",
   "execution_count": 23,
   "metadata": {},
   "outputs": [],
   "source": [
    "# Initialize the sentence transformer model\n",
    "model = SentenceTransformer('all-MiniLM-L6-v2')"
   ]
  },
  {
   "cell_type": "code",
   "execution_count": 24,
   "metadata": {},
   "outputs": [
    {
     "name": "stdout",
     "output_type": "stream",
     "text": [
      "Indexing complete\n"
     ]
    }
   ],
   "source": [
    "# Index the documents\n",
    "for doc in rag_dataset:\n",
    "    text = f\"{doc['title']} {doc['sub_title']} {doc['content']}\"\n",
    "    vector = model.encode(text).tolist()\n",
    "    index.upsert([(str(doc['source_id']), vector)])\n",
    "\n",
    "print(\"Indexing complete\")"
   ]
  },
  {
   "cell_type": "code",
   "execution_count": 32,
   "metadata": {},
   "outputs": [],
   "source": [
    "def fetch_relevant_documents(query, index, model, top_k=5):\n",
    "    query_vector = model.encode(query).tolist()\n",
    "    results = index.query(vector=query_vector, top_k=top_k)\n",
    "    return [hit['id'] for hit in results['matches']]"
   ]
  },
  {
   "cell_type": "code",
   "execution_count": 40,
   "metadata": {},
   "outputs": [],
   "source": [
    "import openai\n",
    "\n",
    "openai.api_key = os.getenv('OPENAI_API_KEY')\n",
    "\n",
    "def generate_response(query, relevant_doc_ids, documents):\n",
    "    context = \"\"\n",
    "    for doc_id in relevant_doc_ids:\n",
    "        doc = next(doc for doc in documents if doc['source_id'] == int(doc_id))\n",
    "        context += f\"Title: {doc['title']}\\nSub Title: {doc['sub_title']}\\nContent: {doc['content']}\\n\\n\"\n",
    "\n",
    "    response = openai.ChatCompletion.create(\n",
    "        model=\"gpt-3.5-turbo\",\n",
    "        messages=[\n",
    "            {\"role\": \"system\", \"content\": \"You are a helpful assistant.\"},\n",
    "            {\"role\": \"user\", \"content\": f\"Answer the following question based on the context provided:\\n\\nContext:\\n{context}\\n\\nQuestion: {query}\"}\n",
    "        ],\n",
    "        max_tokens=150\n",
    "    )\n",
    "    return response.choices[0].message.content.strip()\n"
   ]
  },
  {
   "cell_type": "code",
   "execution_count": 41,
   "metadata": {},
   "outputs": [],
   "source": [
    "def chatbot():\n",
    "    print(\"Welcome to the RAG-powered chatbot! Ask your questions about Amazon Seller Central.\")\n",
    "    while True:\n",
    "        query = input(\"You: \")\n",
    "        if query.lower() in ['exit', 'quit']:\n",
    "            print(\"Goodbye!\")\n",
    "            break\n",
    "\n",
    "        relevant_doc_ids = fetch_relevant_documents(query, index, model)\n",
    "        answer = generate_response(query, relevant_doc_ids, rag_dataset)\n",
    "        print(f\"Chatbot: {answer}\")\n"
   ]
  },
  {
   "cell_type": "code",
   "execution_count": 42,
   "metadata": {},
   "outputs": [
    {
     "name": "stdout",
     "output_type": "stream",
     "text": [
      "Welcome to the RAG-powered chatbot! Ask your questions about Amazon Seller Central.\n"
     ]
    },
    {
     "ename": "APIRemovedInV1",
     "evalue": "\n\nYou tried to access openai.ChatCompletion, but this is no longer supported in openai>=1.0.0 - see the README at https://github.com/openai/openai-python for the API.\n\nYou can run `openai migrate` to automatically upgrade your codebase to use the 1.0.0 interface. \n\nAlternatively, you can pin your installation to the old version, e.g. `pip install openai==0.28`\n\nA detailed migration guide is available here: https://github.com/openai/openai-python/discussions/742\n",
     "output_type": "error",
     "traceback": [
      "\u001b[1;31m---------------------------------------------------------------------------\u001b[0m",
      "\u001b[1;31mAPIRemovedInV1\u001b[0m                            Traceback (most recent call last)",
      "Cell \u001b[1;32mIn[42], line 1\u001b[0m\n\u001b[1;32m----> 1\u001b[0m \u001b[43mchatbot\u001b[49m\u001b[43m(\u001b[49m\u001b[43m)\u001b[49m\n",
      "Cell \u001b[1;32mIn[41], line 10\u001b[0m, in \u001b[0;36mchatbot\u001b[1;34m()\u001b[0m\n\u001b[0;32m      7\u001b[0m     \u001b[38;5;28;01mbreak\u001b[39;00m\n\u001b[0;32m      9\u001b[0m relevant_doc_ids \u001b[38;5;241m=\u001b[39m fetch_relevant_documents(query, index, model)\n\u001b[1;32m---> 10\u001b[0m answer \u001b[38;5;241m=\u001b[39m \u001b[43mgenerate_response\u001b[49m\u001b[43m(\u001b[49m\u001b[43mquery\u001b[49m\u001b[43m,\u001b[49m\u001b[43m \u001b[49m\u001b[43mrelevant_doc_ids\u001b[49m\u001b[43m,\u001b[49m\u001b[43m \u001b[49m\u001b[43mrag_dataset\u001b[49m\u001b[43m)\u001b[49m\n\u001b[0;32m     11\u001b[0m \u001b[38;5;28mprint\u001b[39m(\u001b[38;5;124mf\u001b[39m\u001b[38;5;124m\"\u001b[39m\u001b[38;5;124mChatbot: \u001b[39m\u001b[38;5;132;01m{\u001b[39;00manswer\u001b[38;5;132;01m}\u001b[39;00m\u001b[38;5;124m\"\u001b[39m)\n",
      "Cell \u001b[1;32mIn[40], line 11\u001b[0m, in \u001b[0;36mgenerate_response\u001b[1;34m(query, relevant_doc_ids, documents)\u001b[0m\n\u001b[0;32m      8\u001b[0m     doc \u001b[38;5;241m=\u001b[39m \u001b[38;5;28mnext\u001b[39m(doc \u001b[38;5;28;01mfor\u001b[39;00m doc \u001b[38;5;129;01min\u001b[39;00m documents \u001b[38;5;28;01mif\u001b[39;00m doc[\u001b[38;5;124m'\u001b[39m\u001b[38;5;124msource_id\u001b[39m\u001b[38;5;124m'\u001b[39m] \u001b[38;5;241m==\u001b[39m \u001b[38;5;28mint\u001b[39m(doc_id))\n\u001b[0;32m      9\u001b[0m     context \u001b[38;5;241m+\u001b[39m\u001b[38;5;241m=\u001b[39m \u001b[38;5;124mf\u001b[39m\u001b[38;5;124m\"\u001b[39m\u001b[38;5;124mTitle: \u001b[39m\u001b[38;5;132;01m{\u001b[39;00mdoc[\u001b[38;5;124m'\u001b[39m\u001b[38;5;124mtitle\u001b[39m\u001b[38;5;124m'\u001b[39m]\u001b[38;5;132;01m}\u001b[39;00m\u001b[38;5;130;01m\\n\u001b[39;00m\u001b[38;5;124mSub Title: \u001b[39m\u001b[38;5;132;01m{\u001b[39;00mdoc[\u001b[38;5;124m'\u001b[39m\u001b[38;5;124msub_title\u001b[39m\u001b[38;5;124m'\u001b[39m]\u001b[38;5;132;01m}\u001b[39;00m\u001b[38;5;130;01m\\n\u001b[39;00m\u001b[38;5;124mContent: \u001b[39m\u001b[38;5;132;01m{\u001b[39;00mdoc[\u001b[38;5;124m'\u001b[39m\u001b[38;5;124mcontent\u001b[39m\u001b[38;5;124m'\u001b[39m]\u001b[38;5;132;01m}\u001b[39;00m\u001b[38;5;130;01m\\n\u001b[39;00m\u001b[38;5;130;01m\\n\u001b[39;00m\u001b[38;5;124m\"\u001b[39m\n\u001b[1;32m---> 11\u001b[0m response \u001b[38;5;241m=\u001b[39m \u001b[43mopenai\u001b[49m\u001b[38;5;241;43m.\u001b[39;49m\u001b[43mChatCompletion\u001b[49m\u001b[38;5;241;43m.\u001b[39;49m\u001b[43mcreate\u001b[49m\u001b[43m(\u001b[49m\n\u001b[0;32m     12\u001b[0m \u001b[43m    \u001b[49m\u001b[43mmodel\u001b[49m\u001b[38;5;241;43m=\u001b[39;49m\u001b[38;5;124;43m\"\u001b[39;49m\u001b[38;5;124;43mgpt-3.5-turbo\u001b[39;49m\u001b[38;5;124;43m\"\u001b[39;49m\u001b[43m,\u001b[49m\n\u001b[0;32m     13\u001b[0m \u001b[43m    \u001b[49m\u001b[43mmessages\u001b[49m\u001b[38;5;241;43m=\u001b[39;49m\u001b[43m[\u001b[49m\n\u001b[0;32m     14\u001b[0m \u001b[43m        \u001b[49m\u001b[43m{\u001b[49m\u001b[38;5;124;43m\"\u001b[39;49m\u001b[38;5;124;43mrole\u001b[39;49m\u001b[38;5;124;43m\"\u001b[39;49m\u001b[43m:\u001b[49m\u001b[43m \u001b[49m\u001b[38;5;124;43m\"\u001b[39;49m\u001b[38;5;124;43msystem\u001b[39;49m\u001b[38;5;124;43m\"\u001b[39;49m\u001b[43m,\u001b[49m\u001b[43m \u001b[49m\u001b[38;5;124;43m\"\u001b[39;49m\u001b[38;5;124;43mcontent\u001b[39;49m\u001b[38;5;124;43m\"\u001b[39;49m\u001b[43m:\u001b[49m\u001b[43m \u001b[49m\u001b[38;5;124;43m\"\u001b[39;49m\u001b[38;5;124;43mYou are a helpful assistant.\u001b[39;49m\u001b[38;5;124;43m\"\u001b[39;49m\u001b[43m}\u001b[49m\u001b[43m,\u001b[49m\n\u001b[0;32m     15\u001b[0m \u001b[43m        \u001b[49m\u001b[43m{\u001b[49m\u001b[38;5;124;43m\"\u001b[39;49m\u001b[38;5;124;43mrole\u001b[39;49m\u001b[38;5;124;43m\"\u001b[39;49m\u001b[43m:\u001b[49m\u001b[43m \u001b[49m\u001b[38;5;124;43m\"\u001b[39;49m\u001b[38;5;124;43muser\u001b[39;49m\u001b[38;5;124;43m\"\u001b[39;49m\u001b[43m,\u001b[49m\u001b[43m \u001b[49m\u001b[38;5;124;43m\"\u001b[39;49m\u001b[38;5;124;43mcontent\u001b[39;49m\u001b[38;5;124;43m\"\u001b[39;49m\u001b[43m:\u001b[49m\u001b[43m \u001b[49m\u001b[38;5;124;43mf\u001b[39;49m\u001b[38;5;124;43m\"\u001b[39;49m\u001b[38;5;124;43mAnswer the following question based on the context provided:\u001b[39;49m\u001b[38;5;130;43;01m\\n\u001b[39;49;00m\u001b[38;5;130;43;01m\\n\u001b[39;49;00m\u001b[38;5;124;43mContext:\u001b[39;49m\u001b[38;5;130;43;01m\\n\u001b[39;49;00m\u001b[38;5;132;43;01m{\u001b[39;49;00m\u001b[43mcontext\u001b[49m\u001b[38;5;132;43;01m}\u001b[39;49;00m\u001b[38;5;130;43;01m\\n\u001b[39;49;00m\u001b[38;5;130;43;01m\\n\u001b[39;49;00m\u001b[38;5;124;43mQuestion: \u001b[39;49m\u001b[38;5;132;43;01m{\u001b[39;49;00m\u001b[43mquery\u001b[49m\u001b[38;5;132;43;01m}\u001b[39;49;00m\u001b[38;5;124;43m\"\u001b[39;49m\u001b[43m}\u001b[49m\n\u001b[0;32m     16\u001b[0m \u001b[43m    \u001b[49m\u001b[43m]\u001b[49m\u001b[43m,\u001b[49m\n\u001b[0;32m     17\u001b[0m \u001b[43m    \u001b[49m\u001b[43mmax_tokens\u001b[49m\u001b[38;5;241;43m=\u001b[39;49m\u001b[38;5;241;43m150\u001b[39;49m\n\u001b[0;32m     18\u001b[0m \u001b[43m\u001b[49m\u001b[43m)\u001b[49m\n\u001b[0;32m     19\u001b[0m \u001b[38;5;28;01mreturn\u001b[39;00m response\u001b[38;5;241m.\u001b[39mchoices[\u001b[38;5;241m0\u001b[39m]\u001b[38;5;241m.\u001b[39mmessage\u001b[38;5;241m.\u001b[39mcontent\u001b[38;5;241m.\u001b[39mstrip()\n",
      "File \u001b[1;32mc:\\Users\\fcali\\OneDrive\\Masaüstü\\DATA SCIENCE\\LLMs\\CHATBOT_AMAZON_RETAILER\\.venv\\Lib\\site-packages\\openai\\lib\\_old_api.py:39\u001b[0m, in \u001b[0;36mAPIRemovedInV1Proxy.__call__\u001b[1;34m(self, *_args, **_kwargs)\u001b[0m\n\u001b[0;32m     38\u001b[0m \u001b[38;5;28;01mdef\u001b[39;00m \u001b[38;5;21m__call__\u001b[39m(\u001b[38;5;28mself\u001b[39m, \u001b[38;5;241m*\u001b[39m_args: Any, \u001b[38;5;241m*\u001b[39m\u001b[38;5;241m*\u001b[39m_kwargs: Any) \u001b[38;5;241m-\u001b[39m\u001b[38;5;241m>\u001b[39m Any:\n\u001b[1;32m---> 39\u001b[0m     \u001b[38;5;28;01mraise\u001b[39;00m APIRemovedInV1(symbol\u001b[38;5;241m=\u001b[39m\u001b[38;5;28mself\u001b[39m\u001b[38;5;241m.\u001b[39m_symbol)\n",
      "\u001b[1;31mAPIRemovedInV1\u001b[0m: \n\nYou tried to access openai.ChatCompletion, but this is no longer supported in openai>=1.0.0 - see the README at https://github.com/openai/openai-python for the API.\n\nYou can run `openai migrate` to automatically upgrade your codebase to use the 1.0.0 interface. \n\nAlternatively, you can pin your installation to the old version, e.g. `pip install openai==0.28`\n\nA detailed migration guide is available here: https://github.com/openai/openai-python/discussions/742\n"
     ]
    }
   ],
   "source": [
    "chatbot()"
   ]
  },
  {
   "cell_type": "code",
   "execution_count": null,
   "metadata": {},
   "outputs": [],
   "source": []
  }
 ],
 "metadata": {
  "kernelspec": {
   "display_name": ".venv",
   "language": "python",
   "name": "python3"
  },
  "language_info": {
   "codemirror_mode": {
    "name": "ipython",
    "version": 3
   },
   "file_extension": ".py",
   "mimetype": "text/x-python",
   "name": "python",
   "nbconvert_exporter": "python",
   "pygments_lexer": "ipython3",
   "version": "3.11.9"
  }
 },
 "nbformat": 4,
 "nbformat_minor": 2
}
