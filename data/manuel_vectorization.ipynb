{
 "cells": [
  {
   "cell_type": "markdown",
   "metadata": {},
   "source": [
    "In this notebook, we will experiment:  \n",
    "- Chunking and not chunking documents\n",
    "- Manuel embedding of documents with OpenAI's embedding models\n",
    "- try some OpenAI GPT3.5Turbo compatible open source embedding models\n",
    "- ETL processes with a vector database (Pinecone - API needed)\n",
    "- Recompiling the Rag system"
   ]
  },
  {
   "cell_type": "markdown",
   "metadata": {},
   "source": [
    "# Import Dependencies"
   ]
  },
  {
   "cell_type": "code",
   "execution_count": 9,
   "metadata": {},
   "outputs": [
    {
     "data": {
      "text/plain": [
       "True"
      ]
     },
     "execution_count": 9,
     "metadata": {},
     "output_type": "execute_result"
    }
   ],
   "source": [
    "import json\n",
    "import os\n",
    "import tiktoken\n",
    "import openai\n",
    "import pandas as pd\n",
    "from pinecone import Pinecone, ServerlessSpec\n",
    "import numpy as np\n",
    "from sentence_transformers import SentenceTransformer\n",
    "\n",
    "import warnings\n",
    "warnings.filterwarnings('ignore')\n",
    "from dotenv import load_dotenv\n",
    "load_dotenv()"
   ]
  },
  {
   "cell_type": "markdown",
   "metadata": {},
   "source": [
    "## Calculate Token Count for our Corpus"
   ]
  },
  {
   "cell_type": "code",
   "execution_count": 2,
   "metadata": {},
   "outputs": [],
   "source": [
    "# Load the JSON file\n",
    "with open('rag_dataset.json', 'r', encoding='utf-8') as file:\n",
    "    rag_dataset = json.load(file)"
   ]
  },
  {
   "cell_type": "code",
   "execution_count": 7,
   "metadata": {},
   "outputs": [
    {
     "name": "stdout",
     "output_type": "stream",
     "text": [
      "Document ID: 1, Tokens: 4192\n",
      "Document ID: 2, Tokens: 2171\n",
      "Document ID: 3, Tokens: 3567\n",
      "Document ID: 4, Tokens: 2422\n",
      "Document ID: 5, Tokens: 2398\n",
      "Document ID: 6, Tokens: 1758\n",
      "Document ID: 7, Tokens: 748\n",
      "Document ID: 8, Tokens: 4468\n",
      "Document ID: 9, Tokens: 724\n",
      "Document ID: 10, Tokens: 2568\n",
      "Document ID: 11, Tokens: 1320\n",
      "Document ID: 12, Tokens: 2783\n",
      "Document ID: 13, Tokens: 833\n",
      "Document ID: 14, Tokens: 3516\n",
      "Document ID: 15, Tokens: 2595\n",
      "Total number of tokens in the corpus: 36063\n"
     ]
    }
   ],
   "source": [
    "def token_counter(json_corpus):\n",
    "    # Initialize token count\n",
    "    total_tokens = 0\n",
    "\n",
    "    # Load the tokenizer\n",
    "    tokenizer = tiktoken.get_encoding(\"cl100k_base\")\n",
    "\n",
    "    # Iterate over each document and count tokens\n",
    "    for doc in json_corpus:\n",
    "        content = doc[\"content\"]\n",
    "        tokens = tokenizer.encode(content)\n",
    "        num_tokens = len(tokens)\n",
    "        total_tokens += num_tokens\n",
    "        print(f\"Document ID: {doc['source_id']}, Tokens: {num_tokens}\")\n",
    "    return total_tokens\n",
    "\n",
    "total_tokens = token_counter(rag_dataset)\n",
    "print(f\"Total number of tokens in the corpus: {total_tokens}\")"
   ]
  },
  {
   "cell_type": "markdown",
   "metadata": {},
   "source": [
    "# Open Source Embedding Models"
   ]
  },
  {
   "cell_type": "code",
   "execution_count": 6,
   "metadata": {},
   "outputs": [
    {
     "name": "stdout",
     "output_type": "stream",
     "text": [
      "Generated 15 embeddings.\n"
     ]
    }
   ],
   "source": [
    "# Load the embedding model\n",
    "model = SentenceTransformer('all-MiniLM-L6-v2')\n",
    "\n",
    "# Load the JSON file\n",
    "with open('rag_dataset.json', 'r', encoding='utf-8') as file:\n",
    "    rag_dataset = json.load(file)\n",
    "\n",
    "# Generate embeddings for each document\n",
    "embeddings = []\n",
    "documents = []\n",
    "\n",
    "for doc in rag_dataset:\n",
    "    text = doc[\"content\"]\n",
    "    embedding = model.encode(text)\n",
    "    embeddings.append(embedding)\n",
    "    documents.append(doc)\n",
    "\n",
    "# Convert embeddings to numpy array for FAISS\n",
    "import numpy as np\n",
    "embeddings_np = np.array(embeddings)\n",
    "\n",
    "print(f\"Generated {len(embeddings_np)} embeddings.\")\n"
   ]
  },
  {
   "cell_type": "code",
   "execution_count": 7,
   "metadata": {},
   "outputs": [
    {
     "name": "stdout",
     "output_type": "stream",
     "text": [
      "Embeddings Dimensions: 384\n",
      "A Sample embedded document: \n",
      "[ 3.09171025e-02 -8.90537500e-02  6.76948391e-03  3.95752415e-02\n",
      "  1.72852557e-02  3.76281440e-02  1.14817061e-02  4.72218096e-02\n",
      "  5.96322026e-03 -2.01059319e-02  4.57130596e-02  4.14200760e-02\n",
      "  9.00535211e-02 -6.49557486e-02  8.36676508e-02 -4.68865633e-02\n",
      " -3.66019458e-03 -6.11607432e-02 -1.29569650e-01 -8.75317156e-02\n",
      " -2.04631202e-02 -3.43305580e-02 -5.38553037e-02  4.01871093e-02\n",
      " -6.29546866e-02  4.50878823e-03 -3.57312337e-02  2.50323713e-02\n",
      " -4.27301088e-03 -5.92251234e-02  3.11274882e-02 -4.11407575e-02\n",
      "  5.19546494e-02  1.13811102e-02 -2.74917576e-02 -8.67018104e-02\n",
      " -4.89594601e-02 -7.64432624e-02  5.54890418e-03 -1.90153904e-02\n",
      "  2.71983258e-02 -7.16128349e-02 -1.46555394e-01  1.57067049e-02\n",
      "  4.69347928e-03  7.80275371e-03  5.60158193e-02  7.76518360e-02\n",
      "  9.60370377e-02  1.93958115e-02 -2.38058660e-02  6.85073808e-03\n",
      " -6.18773662e-02 -4.51652631e-02 -8.78126323e-02  4.89109904e-02\n",
      " -2.18965448e-02 -3.96368690e-02  3.37687358e-02 -5.47471680e-02\n",
      "  6.66904077e-02 -7.67370984e-02  2.68537048e-02  3.28493305e-02\n",
      " -3.13410945e-02 -1.24415159e-02 -1.31581631e-02  5.79935759e-02\n",
      " -3.81366685e-02 -7.67126074e-03 -3.87848951e-02 -3.00864000e-02\n",
      " -2.34714057e-02  8.83556679e-02  2.60336660e-02 -6.92485124e-02\n",
      "  1.00837119e-01 -8.90482590e-02 -8.81286897e-03  1.16889790e-01\n",
      " -4.47270088e-02  2.51626354e-02 -1.13547005e-01  1.34101091e-02\n",
      " -7.18981326e-02 -1.06336037e-02  8.22373703e-02  3.53361503e-03\n",
      " -1.47430813e-02 -4.70392331e-02  1.83913670e-02  1.58670433e-02\n",
      " -3.12897041e-02 -2.80544143e-02  2.15840098e-02 -2.09454168e-02\n",
      " -2.72882674e-02  4.19175662e-02  1.46257393e-02 -4.21454199e-02\n",
      "  5.01866639e-02 -1.22854412e-02  4.40395698e-02 -1.18858770e-01\n",
      " -5.35310954e-02 -4.14988399e-02 -4.70900200e-02  7.46155009e-02\n",
      "  2.46790331e-02  7.33201532e-03 -8.29941630e-02 -1.81326307e-02\n",
      " -2.97849346e-02  6.65005893e-02  8.79956633e-02  8.45310241e-02\n",
      " -3.53253819e-02  2.73533314e-02  5.96875213e-02  3.35874371e-02\n",
      "  2.73754783e-02  6.08275458e-02  8.43975395e-02 -5.07688448e-02\n",
      " -2.11107284e-02  1.21477600e-02 -3.80083807e-02  3.89615472e-33\n",
      " -4.03265149e-04  8.46616849e-02  6.41107385e-04 -5.73532768e-02\n",
      " -2.15311870e-02  6.81206957e-02  2.88998000e-02  5.30421846e-02\n",
      " -6.36631101e-02  1.07364580e-01  3.45468484e-02  2.29665115e-02\n",
      " -4.20408696e-02  4.20358740e-02  2.39013918e-02 -6.16235379e-03\n",
      " -1.33586777e-02 -7.21940696e-02  4.73143198e-02 -1.55484769e-02\n",
      "  2.08869986e-02  2.04912317e-03 -4.22403328e-02  1.52616315e-02\n",
      " -6.55781850e-02 -4.19032723e-02  5.44882054e-03  4.05466184e-02\n",
      "  1.13278016e-01 -1.04261050e-02 -7.75194960e-03 -8.07015672e-02\n",
      " -2.59067267e-02  2.78765103e-03 -7.75433704e-02 -4.28531840e-02\n",
      " -6.57625496e-02 -1.86455958e-02  7.16918185e-02 -5.42820543e-02\n",
      " -8.94043148e-02  1.31924525e-02 -4.61089723e-02  3.40471268e-02\n",
      "  5.55830859e-02  1.37494236e-01 -2.81844828e-02 -1.71686653e-02\n",
      "  6.28784075e-02  4.53251973e-02 -6.89357072e-02 -1.45725179e-02\n",
      "  9.36814249e-02  4.30122241e-02 -4.09966782e-02 -3.67120691e-02\n",
      " -2.48901173e-02 -6.76620454e-02  1.55034102e-02 -3.48249190e-02\n",
      " -1.15145305e-02 -3.80969769e-03 -1.31811919e-02  6.11751154e-02\n",
      " -1.03183635e-01 -2.10622195e-02  5.49555160e-02  1.67191774e-03\n",
      " -7.23608062e-02 -2.04823399e-03 -4.09911573e-02  7.29758143e-02\n",
      "  1.59145556e-02 -5.40333465e-02  5.48372455e-02 -2.70235538e-02\n",
      " -2.82964986e-02  4.78778034e-02  6.83795810e-02 -2.31918339e-02\n",
      " -1.30616687e-02  4.52827029e-02  5.07811271e-02  7.80381039e-02\n",
      " -1.23525355e-02  1.99899776e-03  3.94727150e-03 -2.20544469e-02\n",
      " -2.23077964e-02  1.15753012e-02  6.39238134e-02  4.85029891e-02\n",
      " -4.10468206e-02  4.38737646e-02  7.50041008e-02 -4.97615522e-33\n",
      "  1.30263753e-02 -3.00359204e-02  1.24060335e-02  1.22003376e-01\n",
      " -3.82425375e-02  1.26886992e-02 -6.31839260e-02 -3.79240587e-02\n",
      "  2.34204624e-02 -8.75853002e-02 -1.36429623e-01  4.60106991e-02\n",
      "  9.99573246e-03 -2.34388933e-02 -1.17025832e-02 -9.54830050e-02\n",
      "  3.51861492e-02  3.00754625e-02  5.15238643e-02 -6.19523823e-02\n",
      "  4.42279764e-02  1.34055829e-02 -8.15006718e-02 -6.29623756e-02\n",
      " -8.24021548e-03 -3.22286971e-02  1.76832918e-02  6.85877204e-02\n",
      "  6.03805063e-03 -4.14243415e-02  9.97796375e-03  3.25809158e-02\n",
      "  6.27524108e-02  1.09756896e-02 -4.91891131e-02  2.77174916e-02\n",
      "  1.40090762e-02  3.12084127e-02  4.19677645e-02  8.99071153e-03\n",
      "  3.76032703e-02 -2.25123875e-02  6.27163500e-02 -1.26044869e-01\n",
      " -3.12679037e-02 -6.44644955e-03  5.94788790e-02 -5.49810231e-02\n",
      "  3.80833521e-02  3.05575486e-02 -4.11938354e-02  4.39118817e-02\n",
      "  3.14184395e-03 -4.32232842e-02 -2.32677180e-02  3.44824903e-02\n",
      "  3.81574929e-02  4.91246134e-02  7.86540359e-02  1.08218053e-02\n",
      " -3.94781344e-02  2.79987678e-02  3.65948230e-02 -6.80400291e-03\n",
      " -3.58309448e-02 -9.64238793e-02  7.35160187e-02  3.32223661e-02\n",
      " -2.78922711e-02  4.35069762e-02 -1.08345732e-01 -2.90705338e-02\n",
      " -9.98716243e-03 -8.71211514e-02 -8.50828364e-02  3.62253860e-02\n",
      " -6.33328483e-02 -7.68872350e-02 -6.13132119e-02 -4.14643474e-02\n",
      "  2.28606928e-02 -6.51121279e-03  5.38199395e-02  2.20403355e-02\n",
      "  1.76117141e-02  1.00924172e-01  8.62403214e-03 -1.11426217e-02\n",
      " -1.53830992e-02 -7.63467606e-03 -8.49466622e-02 -1.01047959e-02\n",
      " -2.14645360e-02  6.82790391e-03 -1.88661888e-02 -5.56547128e-08\n",
      "  3.88507843e-02 -9.23136696e-02  8.84708166e-02  8.21974352e-02\n",
      "  6.42664209e-02  9.56182629e-02  3.12681720e-02  5.83843477e-02\n",
      " -1.84812385e-03  3.14778537e-02  2.39096954e-03 -9.45120901e-02\n",
      " -6.44325912e-02  5.33643439e-02  5.32218330e-02  4.77305502e-02\n",
      "  4.51138802e-02  1.20884972e-02  3.96807268e-02 -5.60217595e-04\n",
      " -4.23666537e-02 -9.46443435e-03  4.11810353e-02 -4.61730659e-02\n",
      "  1.06991455e-02  4.05314676e-02  1.36218201e-02  7.12943450e-02\n",
      "  2.32839715e-02 -3.39855067e-02  6.05268963e-03 -8.43987539e-02\n",
      "  4.09353599e-02  1.00927642e-02  1.49977915e-02 -8.04382637e-02\n",
      " -3.13248895e-02 -3.10450606e-03 -7.12302253e-02 -1.89621244e-02\n",
      " -8.54502991e-03  3.46167982e-02  9.04490147e-03 -1.62640363e-02\n",
      " -2.34380877e-03 -1.26320757e-02 -5.66048585e-02 -3.70060164e-03\n",
      "  9.53185931e-03  3.63032036e-02  2.56443173e-02 -8.21370184e-02\n",
      "  7.65351057e-02 -1.77860223e-02  2.18835808e-02  4.03130539e-02\n",
      "  6.12761313e-03  1.28147686e-02  1.02219321e-01  1.14409059e-01\n",
      " -1.71584282e-02 -2.82238089e-02 -5.66639379e-02  4.17576507e-02]\n"
     ]
    }
   ],
   "source": [
    "print(f\"Embeddings Dimensions: {len(embeddings_np[0])}\")\n",
    "print(f\"A Sample embedded document: \\n{embeddings_np[0]}\")"
   ]
  },
  {
   "cell_type": "markdown",
   "metadata": {},
   "source": [
    "## Pinecone: Create Index, Store and Retrieve"
   ]
  },
  {
   "attachments": {
    "image.png": {
     "image/png": "[encoded data removed]"
    }
   },
   "cell_type": "markdown",
   "metadata": {},
   "source": [
    "![image.png](attachment:image.png)"
   ]
  },
  {
   "cell_type": "markdown",
   "metadata": {},
   "source": [
    "**Index:** A structure to store and organize your vectors.  \n",
    "**Namespace:** A logical partition within an index to separate different sets of vectors.  \n",
    "**Upsert:** An operation to add or update vectors in an index.  \n",
    "**Query:** A search request to find vectors similar to a given query vector.  \n",
    "**Record:** An individual data entry in your index, including the vector, ID, and metadata.  "
   ]
  },
  {
   "cell_type": "code",
   "execution_count": 10,
   "metadata": {},
   "outputs": [],
   "source": [
    "# Initialize Pinecone clinet connection\n",
    "pinecone_api = os.getenv('PINECONE_API_KEY')\n",
    "pc = Pinecone(api_key= pinecone_api)"
   ]
  },
  {
   "cell_type": "code",
   "execution_count": 12,
   "metadata": {},
   "outputs": [
    {
     "data": {
      "text/plain": [
       "{'indexes': []}"
      ]
     },
     "execution_count": 12,
     "metadata": {},
     "output_type": "execute_result"
    }
   ],
   "source": [
    "pc.list_indexes()\n",
    "\n",
    "# currently we dont have any indexes in this pinecone client"
   ]
  },
  {
   "cell_type": "code",
   "execution_count": 14,
   "metadata": {},
   "outputs": [],
   "source": [
    "# Create a serverless index\n",
    "index_name = \"rag-amazon-mini384\"\n",
    "\n",
    "if index_name not in pc.list_indexes().names():\n",
    "    pc.create_index(\n",
    "        name=index_name,\n",
    "        dimension=384,\n",
    "        metric=\"cosine\",\n",
    "        spec=ServerlessSpec(\n",
    "            cloud='aws', \n",
    "            region='us-east-1'\n",
    "        ) \n",
    "    ) "
   ]
  },
  {
   "cell_type": "code",
   "execution_count": null,
   "metadata": {},
   "outputs": [],
   "source": [
    "# we are targeting our rag-amazon-mini384 index\n",
    "index = pc.Index(\"rag-amazon-mini384\")\n",
    "\n",
    "# Lets UPSERT / put these embedding vectors (to index) into pinecone vector database\n",
    "index.upsert(\n",
    "    vectors=\n",
    ")"
   ]
  },
  {
   "cell_type": "code",
   "execution_count": null,
   "metadata": {},
   "outputs": [],
   "source": [
    "\n"
   ]
  },
  {
   "cell_type": "code",
   "execution_count": null,
   "metadata": {},
   "outputs": [],
   "source": [
    "# Create the chat engine\n",
    "chat_engine = index.as_chat_engine(chat_mode=\"condense_question\", verbose=False)\n",
    "\n",
    "if prompt := st.chat_input(\n",
    "    \"Your question\"\n",
    "):  # Prompt for user input and save to chat history\n",
    "    st.session_state.messages.append({\"role\": \"user\", \"content\": prompt})\n",
    "\n",
    "for message in st.session_state.messages:  # Display the prior chat messages\n",
    "    with st.chat_message(message[\"role\"]):\n",
    "        st.write(message[\"content\"])\n",
    "\n",
    "# If last message is not from assistant, generate a new response\n",
    "if st.session_state.messages[-1][\"role\"] != \"assistant\":\n",
    "    with st.chat_message(\"assistant\"):\n",
    "        with st.spinner(\"Thinking...\"):\n",
    "            response = chat_engine.chat(prompt)\n",
    "            st.write(response.response)\n",
    "            message = {\"role\": \"assistant\", \"content\": response.response}\n",
    "            st.session_state.messages.append(message)  # Add response to message history"
   ]
  },
  {
   "cell_type": "code",
   "execution_count": null,
   "metadata": {},
   "outputs": [],
   "source": []
  },
  {
   "cell_type": "code",
   "execution_count": null,
   "metadata": {},
   "outputs": [],
   "source": []
  },
  {
   "cell_type": "markdown",
   "metadata": {},
   "source": [
    "# OpenAI's embedding Model"
   ]
  },
  {
   "cell_type": "code",
   "execution_count": 13,
   "metadata": {},
   "outputs": [],
   "source": [
    "# Set your OpenAI API key\n",
    "openai.api_key = os.getenv(\"OPENAI_API_KEY\")\n",
    "\n",
    "client = openai.OpenAI()"
   ]
  },
  {
   "cell_type": "code",
   "execution_count": null,
   "metadata": {},
   "outputs": [],
   "source": []
  }
 ],
 "metadata": {
  "kernelspec": {
   "display_name": ".venv",
   "language": "python",
   "name": "python3"
  },
  "language_info": {
   "codemirror_mode": {
    "name": "ipython",
    "version": 3
   },
   "file_extension": ".py",
   "mimetype": "text/x-python",
   "name": "python",
   "nbconvert_exporter": "python",
   "pygments_lexer": "ipython3",
   "version": "3.11.9"
  }
 },
 "nbformat": 4,
 "nbformat_minor": 2
}
