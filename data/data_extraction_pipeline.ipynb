{
 "cells": [
  {
   "cell_type": "code",
   "execution_count": 7,
   "metadata": {},
   "outputs": [],
   "source": [
    "# bring in our LLAMA_CLOUD_API_KEY\n",
    "from dotenv import load_dotenv\n",
    "load_dotenv()\n",
    "\n",
    "# bring in deps\n",
    "from llama_parse import LlamaParse\n",
    "import os\n",
    "import json"
   ]
  },
  {
   "cell_type": "code",
   "execution_count": 8,
   "metadata": {},
   "outputs": [
    {
     "data": {
      "text/plain": [
       "{'source_id': 1,\n",
       " 'topic': 'Setup your Amazon business',\n",
       " 'url': 'https://sell.amazon.com/sell#ready-to-sell',\n",
       " 'title': 'How to sell on Amazon: a guide for beginners',\n",
       " 'sub_title': 'Get an overview of how to create a selling account, list products, fulfill customer orders, and more. Learn how to sell—whether you’re new to online retail or just new to selling in the Amazon store.'}"
      ]
     },
     "execution_count": 8,
     "metadata": {},
     "output_type": "execute_result"
    }
   ],
   "source": [
    "# Function to read metadata from a JSON file\n",
    "def load_metadata(json_path):\n",
    "    with open(json_path, 'r', encoding='utf-8') as file:\n",
    "        return json.load(file)\n",
    "    \n",
    "metadata = load_metadata('documents_metadata.json')\n",
    "metadata[0]"
   ]
  },
  {
   "cell_type": "code",
   "execution_count": 9,
   "metadata": {},
   "outputs": [],
   "source": [
    "# set up parser\n",
    "parser = LlamaParse(\n",
    "    api_key = os.environ['LLAMA_PARSE_API_KEY'],\n",
    "    result_type=\"markdown\"  # \"markdown\" and \"text\" are available\n",
    ")"
   ]
  },
  {
   "cell_type": "code",
   "execution_count": 10,
   "metadata": {},
   "outputs": [
    {
     "name": "stdout",
     "output_type": "stream",
     "text": [
      "15\n"
     ]
    },
    {
     "data": {
      "text/plain": [
       "['amazon_seller_central_documents_pdf/1.pdf',\n",
       " 'amazon_seller_central_documents_pdf/2.pdf',\n",
       " 'amazon_seller_central_documents_pdf/3.pdf']"
      ]
     },
     "execution_count": 10,
     "metadata": {},
     "output_type": "execute_result"
    }
   ],
   "source": [
    "# List of PDF file paths\n",
    "pdf_files = [f\"amazon_seller_central_documents_pdf/{i}.pdf\" for i in range(1, len(metadata) + 1)]\n",
    "print(len(pdf_files))\n",
    "pdf_files[:3]"
   ]
  },
  {
   "cell_type": "code",
   "execution_count": 11,
   "metadata": {},
   "outputs": [],
   "source": [
    "# Function to save markdown content to a file\n",
    "def save_markdown(content, output_path):\n",
    "    with open(output_path, 'w', encoding='utf-8') as file:\n",
    "        file.write(content)\n",
    "\n",
    "md_directory = \"amazon_seller_central_documents_md\""
   ]
  },
  {
   "cell_type": "code",
   "execution_count": 13,
   "metadata": {},
   "outputs": [
    {
     "name": "stdout",
     "output_type": "stream",
     "text": [
      "Started parsing the file under job_id 7e62c265-103a-4bfc-be77-080dc9c89b88\n",
      "Started parsing the file under job_id fde7b8d6-f482-4e48-9860-7eec6d089590\n",
      "Started parsing the file under job_id a6d2b299-21fb-4b57-8cf1-abcf0a18fd34\n",
      ".Started parsing the file under job_id 22f3e0db-b840-4412-9924-b18b7d442da0\n",
      ".Started parsing the file under job_id f28958a1-a7c8-4c75-8237-2b063ac67663\n",
      "Started parsing the file under job_id b5a48914-fbd5-45e9-9c09-00f976297a50\n",
      "Started parsing the file under job_id 1b5732fe-aa37-48a7-9eb8-461f6c2d793f\n",
      "Started parsing the file under job_id 0a4e9564-1601-4bc7-a20a-436591e8b913\n",
      "Started parsing the file under job_id c4bde2a6-cab8-4ac1-969e-539d06c03e15\n",
      "Started parsing the file under job_id dfb290f6-45b9-4c51-afc4-4154705cfac0\n",
      "Started parsing the file under job_id b99fb847-1225-4981-b4e0-9615df00e72e\n",
      "Started parsing the file under job_id 25d04273-2908-426f-bfda-4c8a8bb0f6f3\n",
      "Started parsing the file under job_id 80a38e52-e5c4-4d8a-8ace-f05c26edca6d\n",
      "Started parsing the file under job_id 4c514cac-9e67-4085-a515-d90b5d786406\n",
      ".Started parsing the file under job_id 24bcb905-ff12-46d3-a116-f3c9548c4526\n",
      "Dataset saved to rag_dataset.json\n"
     ]
    }
   ],
   "source": [
    "import nest_asyncio\n",
    "nest_asyncio.apply()\n",
    "\n",
    "# Parse PDF files and combine with metadata\n",
    "documents = []\n",
    "for i, (pdf_file, meta) in enumerate(zip(pdf_files, metadata), start=1):\n",
    "    \n",
    "    doc = parser.load_data(pdf_file)\n",
    "    \n",
    "    # Extract text from the parsed document\n",
    "    document_text = doc[0].text\n",
    "    \n",
    "    # Save the markdown text to a file\n",
    "    markdown_path = f\"{md_directory}/{i}.md\"\n",
    "    save_markdown(document_text, markdown_path)\n",
    "    \n",
    "    # Combine parsed text with metadata\n",
    "    document = {\n",
    "        \"source_id\": meta[\"source_id\"],\n",
    "        \"topic\": meta[\"topic\"],\n",
    "        \"url\": meta[\"url\"],\n",
    "        \"title\": meta[\"title\"],\n",
    "        \"sub_title\": meta[\"sub_title\"],\n",
    "        \"content\": document_text\n",
    "    }\n",
    "    \n",
    "    documents.append(document)\n",
    "\n",
    "# Save the combined data as a JSON file\n",
    "output_json_path = \"rag_dataset.json\"\n",
    "with open(output_json_path, 'w', encoding='utf-8') as file:\n",
    "    json.dump(documents, file, ensure_ascii=False, indent=4)\n",
    "\n",
    "print(f\"Dataset saved to {output_json_path}\")"
   ]
  },
  {
   "cell_type": "code",
   "execution_count": null,
   "metadata": {},
   "outputs": [],
   "source": []
  }
 ],
 "metadata": {
  "kernelspec": {
   "display_name": ".venv",
   "language": "python",
   "name": "python3"
  },
  "language_info": {
   "codemirror_mode": {
    "name": "ipython",
    "version": 3
   },
   "file_extension": ".py",
   "mimetype": "text/x-python",
   "name": "python",
   "nbconvert_exporter": "python",
   "pygments_lexer": "ipython3",
   "version": "3.11.9"
  }
 },
 "nbformat": 4,
 "nbformat_minor": 2
}
